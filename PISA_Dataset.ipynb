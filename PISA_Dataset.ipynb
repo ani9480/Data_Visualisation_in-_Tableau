{
 "cells": [
  {
   "cell_type": "markdown",
   "metadata": {},
   "source": [
    "## Extracting Data from PISA csv file"
   ]
  },
  {
   "cell_type": "code",
   "execution_count": 1,
   "metadata": {
    "collapsed": true
   },
   "outputs": [],
   "source": [
    "## Here i have jotted down the columns I need for analysis in Tableau.\n",
    "\n",
    "import csv\n",
    "import pprint\n",
    "\n",
    "\n",
    "\n",
    "wanted_columns = ['CNT','SUBNATIO','STRATUM','OECD','NC','SCHOOLID','STIDSTD','ST01Q01','ST02Q01','ST04Q01','ST15Q01',\n",
    "                  'ST19Q01','ST29Q01','ST29Q02','ST29Q03','ST29Q04','ST29Q05','ST29Q06','ST29Q07','ST29Q08','ST37Q01',\n",
    "                  'ST37Q02','ST37Q03','ST37Q04','ST37Q05','ST37Q06','ST37Q07','ST37Q08','ST53Q01','ST53Q02','ST53Q03',\n",
    "                  'ST53Q04','ST61Q01','ST61Q02','ST61Q03','ST61Q04','ST61Q05','ST61Q06','ST61Q07','ST61Q08','ST61Q09',\n",
    "                  'ST72Q01','ST79Q01','ST79Q02','ST79Q06','ST79Q08','ST79Q15','ST83Q01','ST83Q02','ST83Q03','ST83Q04',\n",
    "                  'ST86Q01','ST86Q02','ST86Q03','ST86Q04','ST86Q05','EC03Q01','EC03Q02','EC03Q03','EC03Q04','EC03Q05',\n",
    "                  'EC03Q06','EC03Q07','EC03Q08','EC03Q09','EC03Q10','GRADE','ESCS','WEALTH','PV1MATH','PV1READ','PV1SCIE',\n",
    "                  'W_FSTUWT','LMINS','MMINS','SMINS']\n",
    "\n"
   ]
  },
  {
   "cell_type": "code",
   "execution_count": 2,
   "metadata": {
    "collapsed": false
   },
   "outputs": [
    {
     "name": "stderr",
     "output_type": "stream",
     "text": [
      "C:\\Continuum\\Anaconda3\\lib\\site-packages\\IPython\\core\\interactiveshell.py:2717: DtypeWarning: Columns (15,16,17,21,22,23,24,25,26,30,31,36,37,45,65,123,155,156,157,158,159,160,161,162,163,164,165,166,167,168,169,170,171,284,285,286,287,288,289,290,291,292,293,294,295,296,297,298,299,300,301,302,303,307,308,309,310,311,312,313,314,315,316,317,318,319,320,321,322,323,324,325,326,327,328,329,330,331,332,333,334,335,336,337,338,339,340,341,342,343,344,345,346,347,348,349,350,351,352,353,354,355,356,357,376,377,378,379,380,381,382,383,384,385,386,387,388,389,390,391,392,393,394,395,396,397,398,399,400,401,402,403,475) have mixed types. Specify dtype option on import or set low_memory=False.\n",
      "  interactivity=interactivity, compiler=compiler, result=result)\n"
     ]
    }
   ],
   "source": [
    "## In this block I am extracting the specified columns to a new file using Pandas module.\n",
    "\n",
    "import pandas as pd\n",
    "\n",
    "filename = 'pisa2012.csv'\n",
    "# load csv file\n",
    "#df = pd.read_csv(filename)\n",
    "\n",
    "df = pd.read_csv(filename,encoding='latin-1') #reading the csv file \n",
    "\n",
    "# subset original dataframe\n",
    "dfSelect = df[wanted_columns].copy()  #extraxcting the desired colums\n",
    "\n",
    "# output csv file\n",
    "dfSelect.to_csv('updated_pisa_data.csv',  index=False) #creating the new file"
   ]
  },
  {
   "cell_type": "markdown",
   "metadata": {},
   "source": [
    "## Inserting Header"
   ]
  },
  {
   "cell_type": "code",
   "execution_count": 3,
   "metadata": {
    "collapsed": false
   },
   "outputs": [],
   "source": [
    "## In this block I am replacing the column identifiers with their original names as per PISA_dict csv file which \n",
    "## has key value pairs.\n",
    "\n",
    "import csv\n",
    "from pandas import read_csv\n",
    "\n",
    "headings = ['Country code 3-character','Adjudicated sub-region code 7-digit code (3-digit country code + region ID + stratum ID)','Stratum ID 7-character (cnt + region ID + original stratum ID)',\n",
    "            'OECD country','National Centre 6-digit Code','School ID 7-digit (region ID + stratum ID + 3-digit school ID)',\n",
    "            'Student ID','International Grade','National Study Programme','Gender','Mother Current Job Status',\n",
    "            'Father Current Job Status','Math Interest - Enjoy Reading','Instrumental Motivation - Worthwhile for Work',\n",
    "            'Math Interest - Look Forward to Lessons','Math Interest - Enjoy Maths','Instrumental Motivation - Worthwhile for Career Chances','Math Interest - Interested','Instrumental Motivation - Important for Future Study','Instrumental Motivation - Helps to Get a Job','Math Self-Efficacy - Using a <Train Timetable>','Math Self-Efficacy - Calculating TV Discount','Math Self-Efficacy - Calculating Square Metres of Tiles','Math Self-Efficacy - Understanding Graphs in Newspapers','Math Self-Efficacy - Solving Equation 1','Math Self-Efficacy - Distance to Scale','Math Self-Efficacy - Solving Equation 2','Math Self-Efficacy - Calculate Petrol Consumption Rate','Learning Strategies- Important Parts vs. Existing Knowledge vs. Learn by Heart','Learning Strategies- Improve Understanding vs. New Ways vs. Memory','Learning Strategies - Other Subjects vs. Learning Goals vs. Rehearse Problems','Learning Strategies - Repeat Examples vs. Everyday Applications vs. More Information','Experience with Applied Maths Tasks - Use <Train Timetable>','Experience with Applied Maths Tasks - Calculate Price including Tax','Experience with Applied Maths Tasks - Calculate Square Metres','Experience with Applied Maths Tasks - Understand Scientific Tables','Experience with Pure Maths Tasks - Solve Equation 1','Experience with Applied Maths Tasks - Use a Map to Calculate Distance','Experience with Pure Maths Tasks - Solve Equation 2','Experience with Applied Maths Tasks - Calculate Power Consumption Rate','Experience with Applied Maths Tasks - Solve Equation 3','Class Size - No of Students in <Test Language> Class','Teacher-Directed Instruction - Sets Clear Goals','Teacher-Directed Instruction - Encourages Thinking and Reasoning','Teacher-Directed Instruction - Checks Understanding','Teacher-Directed Instruction - Summarizes Previous Lessons','Teacher-Directed Instruction - Informs about Learning Goals','Teacher Support - Lets Us Know We Have to Work Hard','Teacher Support - Provides Extra Help When Needed','Teacher Support - Helps Students with Learning','Teacher Support - Gives Opportunity to Express Opinions','Student-Teacher Relation - Get Along with Teachers','Student-Teacher Relation - Teachers Are Interested','Student-Teacher Relation - Teachers Listen to Students','Student-Teacher Relation - Teachers Help Students','Student-Teacher Relation - Teachers Treat Students Fair','Future Orientation - Internship','Future Orientation - Work-site visits','Future Orientation - Job fair','Future Orientation - Career advisor at school','Future Orientation - Career advisor outside school','Future Orientation - Questionnaire','Future Orientation - Internet search','Future Orientation - Tour<ISCED 3-5> institution','Future Orientation - web search <ISCED 3-5> prog','Future Orientation - <country specific item>','Grade compared to modal grade in country',\"'Index of economic, social and cultural status'\",'Wealth','Plausible value 1 in mathematics',\n",
    "            'Plausible value 1 in reading','Plausible value 1 in science','FINAL STUDENT WEIGHT',\n",
    "            'Learning time (minutes per week)  - <test language>','Learning time (minutes per week)- <Mathematics>',\n",
    "            'Learning time (minutes per week) - <Science>']\n",
    "\n",
    "filename = 'updated_pisa_data.csv'\n",
    "data = []\n",
    "\n",
    "with open(filename,'r') as f:\n",
    "        \n",
    "        file = csv.reader(f)  #Creates a list of all rows.\n",
    "        header = next(file)\n",
    "        #print(header)\n",
    "        for rows in file:\n",
    "            data.append(rows)\n",
    "#print(data[2])    \n",
    "            \n",
    "\n"
   ]
  },
  {
   "cell_type": "code",
   "execution_count": 4,
   "metadata": {
    "collapsed": true
   },
   "outputs": [],
   "source": [
    "with open('updated_headers_PISA.csv', 'w', newline='') as new_f:\n",
    "        write_csv = csv.writer(new_f) \n",
    "        write_csv.writerow(headings)\n",
    "        for row in data:\n",
    "            write_csv.writerow(row)\n",
    "\n",
    "#print(write_csv)\n"
   ]
  }
 ],
 "metadata": {
  "kernelspec": {
   "display_name": "Python 3",
   "language": "python",
   "name": "python3"
  },
  "language_info": {
   "codemirror_mode": {
    "name": "ipython",
    "version": 3
   },
   "file_extension": ".py",
   "mimetype": "text/x-python",
   "name": "python",
   "nbconvert_exporter": "python",
   "pygments_lexer": "ipython3",
   "version": "3.6.0"
  }
 },
 "nbformat": 4,
 "nbformat_minor": 2
}
